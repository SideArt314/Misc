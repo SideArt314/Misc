{
 "cells": [
  {
   "cell_type": "code",
   "execution_count": 14,
   "metadata": {},
   "outputs": [],
   "source": [
    "import numpy as np\n",
    "import os \n",
    "from IPython.display import clear_output\n"
   ]
  },
  {
   "cell_type": "code",
   "execution_count": 26,
   "metadata": {},
   "outputs": [],
   "source": [
    "class Player:\n",
    "    def __init__(self, name, ctr):\n",
    "        self.name = name\n",
    "        self.ctr = ctr\n",
    "    \n",
    "    def isLegal(self, tile, move_max, move):\n",
    "        if not move:\n",
    "            exit()\n",
    "        if move <= move_max and tile - move >= 0:\n",
    "            return True\n",
    "        else: \n",
    "            return False\n",
    "        \n",
    "    def make_move(self, tiles_left, turn_max):\n",
    "        print(\"it is player {s}'s turn. Enter a number between 1 and {n}.\".format(s = self.name, n = turn_max))\n",
    "        while True:\n",
    "            try:\n",
    "                move = int(input(\"Input here: \"))\n",
    "            except:\n",
    "                continue\n",
    "            if self.isLegal(tiles_left, turn_max, move):\n",
    "                return move\n",
    "            else:\n",
    "                print(move, \" is not a legal move!! try again.\")\n",
    "            "
   ]
  },
  {
   "cell_type": "code",
   "execution_count": 35,
   "metadata": {},
   "outputs": [],
   "source": [
    "class Game:\n",
    "    def __init__(self, p1, p2, N, n):\n",
    "        self.player1 = p1\n",
    "        self.player2 = p2\n",
    "        self.tiles = N\n",
    "        self.move_max = n\n",
    "        self.is_game_over = False\n",
    "        self.win_count = 0\n",
    "        self.scores = [[p1.name, p2.name]]\n",
    "\n",
    "    def show_status(self, tile):\n",
    "        for i in range(len(self.scores)):\n",
    "            print(self.scores[i][0], ' ', self.scores[i][1])\n",
    "        print(\"There are {} tiles remaining.\".format(tile))\n",
    "\n",
    "    def update(self, tile, move, p):\n",
    "        tile = tile - move\n",
    "        winner = -1\n",
    "        if tile == 0:\n",
    "            self.is_game_over = True\n",
    "            winner = p.ctr\n",
    "        if p.ctr==1:\n",
    "            self.scores.append([tile,'x'])\n",
    "        else:\n",
    "            self.scores[-1][1] = tile\n",
    "        return tile, winner\n",
    "        \n",
    "        \n",
    "    def play(self):\n",
    "        tiles = self.tiles\n",
    "        move_max = self.move_max\n",
    "        turn = 0\n",
    "\n",
    "        self.scores.append([tiles,'x'])\n",
    "        \n",
    "        while not self.is_game_over:\n",
    "            p = p1 if turn == 0 else p2\n",
    "\n",
    "            clear_output()\n",
    "            self.show_status(tiles)\n",
    "\n",
    "            p_play = p.make_move(tiles, move_max)\n",
    "            tiles,winner = self.update(tiles, p_play, p)\n",
    "\n",
    "            if self.is_game_over:\n",
    "                break\n",
    "\n",
    "            move_max += 1*turn\n",
    "            turn = 1 - turn\n",
    "        \n",
    "        clear_output()\n",
    "        print(\"{} wins!\".format(p.name))\n",
    "        self.show_status(tiles)"
   ]
  },
  {
   "cell_type": "code",
   "execution_count": 39,
   "metadata": {},
   "outputs": [
    {
     "name": "stdout",
     "output_type": "stream",
     "text": [
      "Player Ranjan wins!\n",
      "Ben   Ranjan\n",
      "10   8\n",
      "6   3\n",
      "0   x\n",
      "There are 0 tiles remaining.\n"
     ]
    }
   ],
   "source": [
    "name  = input(\"Enter Player 1 name: \")\n",
    "p1 = Player(name,0)\n",
    "name = input(\"Enter Player 2 name :\")\n",
    "p2 = Player(name,1)\n",
    "\n",
    "game = Game(p1,p2,10,2)\n",
    "\n",
    "game.play()\n",
    "\n",
    "\n"
   ]
  },
  {
   "cell_type": "code",
   "execution_count": null,
   "metadata": {},
   "outputs": [],
   "source": []
  },
  {
   "cell_type": "code",
   "execution_count": null,
   "metadata": {},
   "outputs": [],
   "source": []
  }
 ],
 "metadata": {
  "kernelspec": {
   "display_name": "Python 3",
   "language": "python",
   "name": "python3"
  },
  "language_info": {
   "codemirror_mode": {
    "name": "ipython",
    "version": 3
   },
   "file_extension": ".py",
   "mimetype": "text/x-python",
   "name": "python",
   "nbconvert_exporter": "python",
   "pygments_lexer": "ipython3",
   "version": "3.9.7"
  },
  "orig_nbformat": 4
 },
 "nbformat": 4,
 "nbformat_minor": 2
}
